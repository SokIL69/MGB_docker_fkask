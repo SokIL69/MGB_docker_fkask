{
 "cells": [
  {
   "cell_type": "markdown",
   "metadata": {},
   "source": [
    "### Проверка того, что наше api работает\n",
    "\n",
    "Перед началом необходимо собрать docker-образ и запустить контейнер\n",
    "\n",
    "1. Следовать инструкциям https://github.com/fimochka-sudo/GB_docker_flask_example/blob/main/README.md\n",
    "2. Далее уже запускать код ниже"
   ]
  },
  {
   "cell_type": "code",
   "execution_count": 1,
   "metadata": {},
   "outputs": [
    {
     "name": "stderr",
     "output_type": "stream",
     "text": [
      "/home/sil/anaconda3/lib/python3.7/site-packages/sklearn/utils/deprecation.py:144: FutureWarning: The sklearn.metrics.scorer module is  deprecated in version 0.22 and will be removed in version 0.24. The corresponding classes / functions should instead be imported from sklearn.metrics. Anything that cannot be imported from sklearn.metrics is now part of the private API.\n",
      "  warnings.warn(message, FutureWarning)\n"
     ]
    }
   ],
   "source": [
    "import pandas as pd\n",
    "from sklearn.metrics import roc_auc_score,roc_curve,scorer\n",
    "from urllib import request, parse\n",
    "\n",
    "X_test = pd.read_csv(\"X_test.csv\")\n",
    "y_test = pd.read_csv(\"y_test.csv\")"
   ]
  },
  {
   "cell_type": "code",
   "execution_count": 2,
   "metadata": {},
   "outputs": [],
   "source": [
    "# X_test.columns\n",
    "columns = ['Annual Income', 'Number of Open Accounts', 'Years of Credit History',\n",
    "       'Maximum Open Credit', 'Current Loan Amount', 'Current Credit Balance',\n",
    "       'Monthly Debt',\n",
    "       'CreditScore_small', 'CreditScore_large',\n",
    "       'Home_Ownership_int', 'Years_in_current_job_int', 'Purpose_int',\n",
    "       'Term_int', 'Tax_Liens_int', 'Number_of_Credit_Problems_int']"
   ]
  },
  {
   "cell_type": "code",
   "execution_count": 3,
   "metadata": {},
   "outputs": [],
   "source": [
    "# X_test[columns].head(3)"
   ]
  },
  {
   "cell_type": "code",
   "execution_count": 4,
   "metadata": {},
   "outputs": [],
   "source": [
    "import urllib.request\n",
    "import json      \n",
    "\n",
    "def get_prediction(Annual_Income,\n",
    "                   \n",
    "                   Number_of_Open_Accounts,\n",
    "                   Years_of_Credit_History,\n",
    "                   Maximum_Open_Credit,\n",
    "                   Current_Loan_Amount,\n",
    "                   Current_Credit_Balance,\n",
    "                   Monthly_Debt,\n",
    "                   CreditScore_small,\n",
    "                   CreditScore_large,\n",
    "                   \n",
    "                   Home_Ownership_int,\n",
    "                   Years_in_current_job_int,\n",
    "                   Purpose_int,\n",
    "                   Term_int,\n",
    "                   Tax_Liens_int,\n",
    "                   Number_of_Credit_Problems_int):\n",
    "    \n",
    "\n",
    "    body = {'Annual Income': str(Annual_Income),\n",
    "\n",
    "            'Number of Open Accounts': str(float(Number_of_Open_Accounts)),\n",
    "            'Years of Credit History': str(float(Years_of_Credit_History)), \n",
    "            'Maximum Open Credit': str(float(Maximum_Open_Credit)), \n",
    "            'Current Loan Amount': str(float(Current_Loan_Amount)), \n",
    "            'Current Credit Balance': str(float(Current_Credit_Balance)),\n",
    "\n",
    "            'Monthly Debt': str(float(Monthly_Debt)),\n",
    "            'CreditScore_small': str(float(CreditScore_small)),\n",
    "            'CreditScore_large': str(float(CreditScore_large)),\n",
    "            \n",
    "            'Home_Ownership_int': str(int(Home_Ownership_int)),\n",
    "            'Years_in_current_job_int': str(int(Years_in_current_job_int)), \n",
    "            'Purpose_int': str(int(Purpose_int)), \n",
    "            'Term_int': str(int(Term_int)), \n",
    "            'Tax_Liens_int': str(int(Tax_Liens_int)),\n",
    "            'Number_of_Credit_Problems_int': str(int(Number_of_Credit_Problems_int))\n",
    "            } \n",
    "    \n",
    "#     for x in body:\n",
    "#         print (x,':',body[x])\n",
    "    \n",
    "    jsondata = json.dumps(body)\n",
    "    jsondataasbytes = jsondata.encode('utf-8')   # needs to be bytes\n",
    "    # print (jsondataasbytes)\n",
    "    # myurl = \"http://0.0.0.0:8180/predict\"\n",
    "    myurl = \"http://0.0.0.0:8182/predict\"\n",
    "    req = urllib.request.Request(myurl)\n",
    "    req.add_header('Content-Type', 'application/json; charset=utf-8')\n",
    "    req.add_header('Content-Length', len(jsondataasbytes))\n",
    "\n",
    "    response = urllib.request.urlopen(req, jsondataasbytes)\n",
    "\n",
    "    return json.loads(response.read())['predictions']"
   ]
  },
  {
   "cell_type": "code",
   "execution_count": 5,
   "metadata": {},
   "outputs": [],
   "source": [
    "#  get_prediction(0.616627, 3, 8, 14, 1, 0, 0)"
   ]
  },
  {
   "cell_type": "code",
   "execution_count": 6,
   "metadata": {},
   "outputs": [
    {
     "data": {
      "text/html": [
       "<div>\n",
       "<style scoped>\n",
       "    .dataframe tbody tr th:only-of-type {\n",
       "        vertical-align: middle;\n",
       "    }\n",
       "\n",
       "    .dataframe tbody tr th {\n",
       "        vertical-align: top;\n",
       "    }\n",
       "\n",
       "    .dataframe thead th {\n",
       "        text-align: right;\n",
       "    }\n",
       "</style>\n",
       "<table border=\"1\" class=\"dataframe\">\n",
       "  <thead>\n",
       "    <tr style=\"text-align: right;\">\n",
       "      <th></th>\n",
       "      <th>Annual Income</th>\n",
       "      <th>Number of Open Accounts</th>\n",
       "      <th>Years of Credit History</th>\n",
       "      <th>Maximum Open Credit</th>\n",
       "      <th>Current Loan Amount</th>\n",
       "      <th>Current Credit Balance</th>\n",
       "      <th>Monthly Debt</th>\n",
       "      <th>CreditScore_small</th>\n",
       "      <th>CreditScore_large</th>\n",
       "      <th>Home_Ownership_int</th>\n",
       "      <th>Years_in_current_job_int</th>\n",
       "      <th>Purpose_int</th>\n",
       "      <th>Term_int</th>\n",
       "      <th>Tax_Liens_int</th>\n",
       "      <th>Number_of_Credit_Problems_int</th>\n",
       "    </tr>\n",
       "  </thead>\n",
       "  <tbody>\n",
       "    <tr>\n",
       "      <th>0</th>\n",
       "      <td>0.616627</td>\n",
       "      <td>0.380774</td>\n",
       "      <td>-0.345022</td>\n",
       "      <td>0.41448</td>\n",
       "      <td>-0.506407</td>\n",
       "      <td>0.775597</td>\n",
       "      <td>0.342168</td>\n",
       "      <td>0.381853</td>\n",
       "      <td>-0.237124</td>\n",
       "      <td>3</td>\n",
       "      <td>8</td>\n",
       "      <td>14</td>\n",
       "      <td>1</td>\n",
       "      <td>0</td>\n",
       "      <td>0</td>\n",
       "    </tr>\n",
       "  </tbody>\n",
       "</table>\n",
       "</div>"
      ],
      "text/plain": [
       "   Annual Income  Number of Open Accounts  Years of Credit History  \\\n",
       "0       0.616627                 0.380774                -0.345022   \n",
       "\n",
       "   Maximum Open Credit  Current Loan Amount  Current Credit Balance  \\\n",
       "0              0.41448            -0.506407                0.775597   \n",
       "\n",
       "   Monthly Debt  CreditScore_small  CreditScore_large  Home_Ownership_int  \\\n",
       "0      0.342168           0.381853          -0.237124                   3   \n",
       "\n",
       "   Years_in_current_job_int  Purpose_int  Term_int  Tax_Liens_int  \\\n",
       "0                         8           14         1              0   \n",
       "\n",
       "   Number_of_Credit_Problems_int  \n",
       "0                              0  "
      ]
     },
     "execution_count": 6,
     "metadata": {},
     "output_type": "execute_result"
    }
   ],
   "source": [
    "X_test[columns].head(1)"
   ]
  },
  {
   "cell_type": "code",
   "execution_count": 7,
   "metadata": {
    "scrolled": false
   },
   "outputs": [
    {
     "data": {
      "text/plain": [
       "0.13721633456135737"
      ]
     },
     "execution_count": 7,
     "metadata": {},
     "output_type": "execute_result"
    }
   ],
   "source": [
    "get_prediction(0.616627,\n",
    "               0.380774,\n",
    "               -0.345022,\n",
    "               0.414480,\n",
    "               -0.506407,\n",
    "               0.775597,\n",
    "               0.342168,\n",
    "               0.381853,\n",
    "               -0.237124,\n",
    "               3,\n",
    "               8,\n",
    "               14,\n",
    "               1,\n",
    "               0,\n",
    "               0)"
   ]
  },
  {
   "cell_type": "code",
   "execution_count": 8,
   "metadata": {
    "scrolled": false
   },
   "outputs": [
    {
     "name": "stdout",
     "output_type": "stream",
     "text": [
      "CPU times: user 213 ms, sys: 65.3 ms, total: 279 ms\n",
      "Wall time: 5.55 s\n"
     ]
    }
   ],
   "source": [
    "%%time\n",
    "predictions = X_test.iloc[:100].apply(lambda x: get_prediction(x[0], \n",
    "                                                             x[1],\n",
    "                                                             x[2],\n",
    "                                                             x[3],\n",
    "                                                             x[4],\n",
    "                                                             x[5],\n",
    "                                                             x[6],\n",
    "                                                             x[7],\n",
    "                                                             x[8],\n",
    "                                                             x[9],\n",
    "                                                             x[10],\n",
    "                                                             x[11],\n",
    "                                                             x[12],\n",
    "                                                             x[13],\n",
    "                                                             x[14]), 1)"
   ]
  },
  {
   "cell_type": "code",
   "execution_count": 9,
   "metadata": {},
   "outputs": [
    {
     "data": {
      "text/plain": [
       "0.7484215638659544"
      ]
     },
     "execution_count": 9,
     "metadata": {},
     "output_type": "execute_result"
    }
   ],
   "source": [
    "roc_auc_score(y_score=predictions.values, y_true=y_test.iloc[:100])"
   ]
  },
  {
   "cell_type": "markdown",
   "metadata": {},
   "source": [
    "Давайте подумаем, где наше api может сломаться"
   ]
  },
  {
   "cell_type": "code",
   "execution_count": 10,
   "metadata": {},
   "outputs": [],
   "source": [
    "# get_prediction(\"\", \"\", None)"
   ]
  },
  {
   "cell_type": "code",
   "execution_count": null,
   "metadata": {},
   "outputs": [],
   "source": []
  },
  {
   "cell_type": "code",
   "execution_count": null,
   "metadata": {},
   "outputs": [],
   "source": []
  }
 ],
 "metadata": {
  "kernelspec": {
   "display_name": "Python 3",
   "language": "python",
   "name": "python3"
  },
  "language_info": {
   "codemirror_mode": {
    "name": "ipython",
    "version": 3
   },
   "file_extension": ".py",
   "mimetype": "text/x-python",
   "name": "python",
   "nbconvert_exporter": "python",
   "pygments_lexer": "ipython3",
   "version": "3.7.6"
  }
 },
 "nbformat": 4,
 "nbformat_minor": 2
}
