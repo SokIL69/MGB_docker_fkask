{
 "cells": [
  {
   "cell_type": "markdown",
   "metadata": {},
   "source": [
    "# Курсовой проект по курсу \"Машинное обучение в бизнесе\"."
   ]
  },
  {
   "cell_type": "markdown",
   "metadata": {},
   "source": [
    "## Соковнин Игорь Леонидович"
   ]
  },
  {
   "cell_type": "markdown",
   "metadata": {},
   "source": [
    "### 2 шаг. Проверка работоспособности и качества пайплайна\n",
    "\n",
    "Здесь мы еще не запускаем никакое API, а загружаем модель (pipeline) напрямую и проверяем на отложенной (тестовой) выборке"
   ]
  },
  {
   "cell_type": "code",
   "execution_count": 1,
   "metadata": {},
   "outputs": [],
   "source": [
    "import pandas as pd\n",
    "from sklearn.metrics import roc_auc_score,roc_curve # ,scorer\n",
    "import dill\n",
    "dill._dill._reverse_typemap['ClassType'] = type"
   ]
  },
  {
   "cell_type": "code",
   "execution_count": 2,
   "metadata": {},
   "outputs": [],
   "source": [
    "X_test = pd.read_csv(\"X_test.csv\")\n",
    "y_test = pd.read_csv(\"y_test.csv\")"
   ]
  },
  {
   "cell_type": "code",
   "execution_count": 3,
   "metadata": {},
   "outputs": [
    {
     "data": {
      "text/html": [
       "<div>\n",
       "<style scoped>\n",
       "    .dataframe tbody tr th:only-of-type {\n",
       "        vertical-align: middle;\n",
       "    }\n",
       "\n",
       "    .dataframe tbody tr th {\n",
       "        vertical-align: top;\n",
       "    }\n",
       "\n",
       "    .dataframe thead th {\n",
       "        text-align: right;\n",
       "    }\n",
       "</style>\n",
       "<table border=\"1\" class=\"dataframe\">\n",
       "  <thead>\n",
       "    <tr style=\"text-align: right;\">\n",
       "      <th></th>\n",
       "      <th>Annual Income</th>\n",
       "      <th>Number of Open Accounts</th>\n",
       "      <th>Years of Credit History</th>\n",
       "      <th>Maximum Open Credit</th>\n",
       "      <th>Current Loan Amount</th>\n",
       "      <th>Current Credit Balance</th>\n",
       "      <th>Monthly Debt</th>\n",
       "      <th>CreditScore_small</th>\n",
       "      <th>CreditScore_large</th>\n",
       "      <th>Home_Ownership_int</th>\n",
       "      <th>Years_in_current_job_int</th>\n",
       "      <th>Purpose_int</th>\n",
       "      <th>Term_int</th>\n",
       "      <th>Tax_Liens_int</th>\n",
       "      <th>Number_of_Credit_Problems_int</th>\n",
       "    </tr>\n",
       "  </thead>\n",
       "  <tbody>\n",
       "    <tr>\n",
       "      <th>0</th>\n",
       "      <td>0.616627</td>\n",
       "      <td>0.380774</td>\n",
       "      <td>-0.345022</td>\n",
       "      <td>0.414480</td>\n",
       "      <td>-0.506407</td>\n",
       "      <td>0.775597</td>\n",
       "      <td>0.342168</td>\n",
       "      <td>0.381853</td>\n",
       "      <td>-0.237124</td>\n",
       "      <td>3</td>\n",
       "      <td>8</td>\n",
       "      <td>14</td>\n",
       "      <td>1</td>\n",
       "      <td>0</td>\n",
       "      <td>0</td>\n",
       "    </tr>\n",
       "    <tr>\n",
       "      <th>1</th>\n",
       "      <td>-0.214060</td>\n",
       "      <td>0.177050</td>\n",
       "      <td>-0.752488</td>\n",
       "      <td>0.015172</td>\n",
       "      <td>-0.041813</td>\n",
       "      <td>0.474891</td>\n",
       "      <td>0.342168</td>\n",
       "      <td>0.285941</td>\n",
       "      <td>-0.237124</td>\n",
       "      <td>2</td>\n",
       "      <td>10</td>\n",
       "      <td>14</td>\n",
       "      <td>1</td>\n",
       "      <td>0</td>\n",
       "      <td>0</td>\n",
       "    </tr>\n",
       "    <tr>\n",
       "      <th>2</th>\n",
       "      <td>0.558239</td>\n",
       "      <td>0.584498</td>\n",
       "      <td>-0.199499</td>\n",
       "      <td>-0.284993</td>\n",
       "      <td>1.724947</td>\n",
       "      <td>-0.303311</td>\n",
       "      <td>0.342168</td>\n",
       "      <td>0.333897</td>\n",
       "      <td>-0.237124</td>\n",
       "      <td>2</td>\n",
       "      <td>0</td>\n",
       "      <td>14</td>\n",
       "      <td>1</td>\n",
       "      <td>0</td>\n",
       "      <td>0</td>\n",
       "    </tr>\n",
       "  </tbody>\n",
       "</table>\n",
       "</div>"
      ],
      "text/plain": [
       "   Annual Income  Number of Open Accounts  Years of Credit History  \\\n",
       "0       0.616627                 0.380774                -0.345022   \n",
       "1      -0.214060                 0.177050                -0.752488   \n",
       "2       0.558239                 0.584498                -0.199499   \n",
       "\n",
       "   Maximum Open Credit  Current Loan Amount  Current Credit Balance  \\\n",
       "0             0.414480            -0.506407                0.775597   \n",
       "1             0.015172            -0.041813                0.474891   \n",
       "2            -0.284993             1.724947               -0.303311   \n",
       "\n",
       "   Monthly Debt  CreditScore_small  CreditScore_large  Home_Ownership_int  \\\n",
       "0      0.342168           0.381853          -0.237124                   3   \n",
       "1      0.342168           0.285941          -0.237124                   2   \n",
       "2      0.342168           0.333897          -0.237124                   2   \n",
       "\n",
       "   Years_in_current_job_int  Purpose_int  Term_int  Tax_Liens_int  \\\n",
       "0                         8           14         1              0   \n",
       "1                        10           14         1              0   \n",
       "2                         0           14         1              0   \n",
       "\n",
       "   Number_of_Credit_Problems_int  \n",
       "0                              0  \n",
       "1                              0  \n",
       "2                              0  "
      ]
     },
     "execution_count": 3,
     "metadata": {},
     "output_type": "execute_result"
    }
   ],
   "source": [
    "X_test.head(3)"
   ]
  },
  {
   "cell_type": "code",
   "execution_count": 4,
   "metadata": {},
   "outputs": [],
   "source": [
    "columns = ['Purpose_int', 'Term_int', 'Tax_Liens_int', 'Number_of_Credit_Problems_int']"
   ]
  },
  {
   "cell_type": "code",
   "execution_count": 5,
   "metadata": {},
   "outputs": [],
   "source": [
    "Purpose_int, Term_int, Tax_Liens_int, Number_of_Credit_Problems_int = \"\", \"\", \"\", \"\"\n",
    "\n",
    "Purpose_int = \"14\"\n",
    "Term_int = \"1\"\n",
    "Tax_Liens_int = \"0\"\n",
    "Number_of_Credit_Problems_int = \"0\""
   ]
  },
  {
   "cell_type": "code",
   "execution_count": 6,
   "metadata": {},
   "outputs": [],
   "source": [
    "with open('logreg_pipeline_v1.dill', 'rb') as in_strm:\n",
    "    pipeline = dill.load(in_strm)"
   ]
  },
  {
   "cell_type": "code",
   "execution_count": 7,
   "metadata": {},
   "outputs": [],
   "source": [
    "# with open('catboost_pipeline.dill', 'rb') as in_strm:\n",
    "#     pipeline = dill.load(in_strm)"
   ]
  },
  {
   "cell_type": "code",
   "execution_count": 8,
   "metadata": {},
   "outputs": [
    {
     "data": {
      "text/plain": [
       "array([[0.77498063, 0.22501937]])"
      ]
     },
     "execution_count": 8,
     "metadata": {},
     "output_type": "execute_result"
    }
   ],
   "source": [
    "predictions = pipeline.predict_proba(pd.DataFrame({\"Purpose_int\": [Purpose_int],\n",
    "                                  \"Term_int\": [Term_int],\n",
    "                                  \"Tax_Liens_int\": [Tax_Liens_int],\n",
    "                                  \"Number_of_Credit_Problems_int\": [Number_of_Credit_Problems_int]}))\n",
    "predictions"
   ]
  },
  {
   "cell_type": "code",
   "execution_count": 9,
   "metadata": {},
   "outputs": [],
   "source": [
    "columns = ['Annual Income', 'Number of Open Accounts', 'Years of Credit History',\n",
    "       'Maximum Open Credit', 'Current Loan Amount', 'Current Credit Balance',\n",
    "       'Monthly Debt', 'CreditScore_small', 'CreditScore_large',\n",
    "       'Home_Ownership_int', 'Years_in_current_job_int', 'Purpose_int',\n",
    "       'Term_int', 'Tax_Liens_int', 'Number_of_Credit_Problems_int']"
   ]
  },
  {
   "cell_type": "code",
   "execution_count": 10,
   "metadata": {},
   "outputs": [
    {
     "data": {
      "text/plain": [
       "array([[0.77498063, 0.22501937],\n",
       "       [0.77498063, 0.22501937],\n",
       "       [0.77498063, 0.22501937],\n",
       "       ...,\n",
       "       [0.77498063, 0.22501937],\n",
       "       [0.77498063, 0.22501937],\n",
       "       [0.76945348, 0.23054652]])"
      ]
     },
     "execution_count": 10,
     "metadata": {},
     "output_type": "execute_result"
    }
   ],
   "source": [
    "predictions = pipeline.predict_proba(X_test[columns])\n",
    "pd.DataFrame({'preds': predictions[:, 1]}).to_csv(\"test_predictions.csv\", index=None)\n",
    "predictions"
   ]
  },
  {
   "cell_type": "code",
   "execution_count": 11,
   "metadata": {},
   "outputs": [
    {
     "data": {
      "text/plain": [
       "0.5877136560264858"
      ]
     },
     "execution_count": 11,
     "metadata": {},
     "output_type": "execute_result"
    }
   ],
   "source": [
    "roc_auc_score(y_score=predictions[:, 1][:], y_true=y_test.iloc[:])"
   ]
  },
  {
   "cell_type": "code",
   "execution_count": null,
   "metadata": {},
   "outputs": [],
   "source": []
  },
  {
   "cell_type": "code",
   "execution_count": null,
   "metadata": {},
   "outputs": [],
   "source": []
  }
 ],
 "metadata": {
  "kernelspec": {
   "display_name": "Python 3",
   "language": "python",
   "name": "python3"
  },
  "language_info": {
   "codemirror_mode": {
    "name": "ipython",
    "version": 3
   },
   "file_extension": ".py",
   "mimetype": "text/x-python",
   "name": "python",
   "nbconvert_exporter": "python",
   "pygments_lexer": "ipython3",
   "version": "3.7.6"
  }
 },
 "nbformat": 4,
 "nbformat_minor": 4
}
