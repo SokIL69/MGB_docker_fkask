{
 "cells": [
  {
   "cell_type": "markdown",
   "metadata": {
    "papermill": {
     "duration": 0.056932,
     "end_time": "2021-02-28T16:14:27.198332",
     "exception": false,
     "start_time": "2021-02-28T16:14:27.141400",
     "status": "completed"
    },
    "tags": []
   },
   "source": [
    "# Курсовой проект по курсу \"Машинное обучение в бизнесе\"."
   ]
  },
  {
   "cell_type": "markdown",
   "metadata": {
    "papermill": {
     "duration": 0.055144,
     "end_time": "2021-02-28T16:14:27.308534",
     "exception": false,
     "start_time": "2021-02-28T16:14:27.253390",
     "status": "completed"
    },
    "tags": []
   },
   "source": [
    "## Соковнин Игорь Леонидович"
   ]
  },
  {
   "cell_type": "markdown",
   "metadata": {},
   "source": [
    "### 1 шаг . Обучение пайплайна\n",
    "\n",
    "1. Загрузим данные https://www.kaggle.com/c/654pds2courseproject/data\n",
    "2. Соберем пайплайн\n",
    "3. Обучим CatBoostClassifier (или логистическую регрессию) и сохраним на диск предобученный пайплайн"
   ]
  },
  {
   "cell_type": "markdown",
   "metadata": {
    "papermill": {
     "duration": 0.057067,
     "end_time": "2021-02-28T16:14:27.420042",
     "exception": false,
     "start_time": "2021-02-28T16:14:27.362975",
     "status": "completed"
    },
    "tags": []
   },
   "source": [
    "**Задача**\n",
    "\n",
    "Требуется, на основании имеющихся данных о клиентах банка, построить модель, используяобучающий датасет, для прогнозирования невыполнения долговых обязательств по текущему кредиту. Выполнить прогноз для примеров из тестового датасета.\n",
    "\n",
    "**Целевая переменная**\n",
    "\n",
    "Credit Default - факт невыполнения кредитных обязательств\n",
    "\n",
    "**Метрика качества**\n",
    "\n",
    "F1-score (sklearn.metrics.f1_score)"
   ]
  },
  {
   "cell_type": "code",
   "execution_count": null,
   "metadata": {},
   "outputs": [],
   "source": []
  },
  {
   "cell_type": "markdown",
   "metadata": {},
   "source": [
    "За основу взят курсовой с курса \"Библиотеки Python для Data Science продолжение II\"<br>\n",
    "https://www.kaggle.com/igorsokovnin/ilssokovnin-solution"
   ]
  },
  {
   "cell_type": "markdown",
   "metadata": {
    "papermill": {
     "duration": 0.055119,
     "end_time": "2021-02-28T16:14:27.529789",
     "exception": false,
     "start_time": "2021-02-28T16:14:27.474670",
     "status": "completed"
    },
    "tags": []
   },
   "source": [
    "## Подключение библиотек и скриптов\n"
   ]
  },
  {
   "cell_type": "code",
   "execution_count": 1,
   "metadata": {},
   "outputs": [],
   "source": [
    "# !pip install catboost"
   ]
  },
  {
   "cell_type": "code",
   "execution_count": 2,
   "metadata": {},
   "outputs": [],
   "source": [
    "# !pip install dill"
   ]
  },
  {
   "cell_type": "code",
   "execution_count": 3,
   "metadata": {},
   "outputs": [],
   "source": [
    "import pandas as pd\n",
    "import dill\n",
    "import numpy as np\n",
    "from sklearn.model_selection import train_test_split\n",
    "from sklearn.base import BaseEstimator, TransformerMixin\n",
    "# 4. Модели\n",
    "import catboost as catb\n",
    "from sklearn.linear_model import LogisticRegression\n",
    "\n",
    "from sklearn.metrics import confusion_matrix, accuracy_score, classification_report\n",
    "from sklearn.metrics import roc_auc_score, roc_curve #, scorer - ошибка\n",
    "from sklearn.metrics import f1_score\n",
    "#working with text\n",
    "from sklearn.feature_extraction.text import TfidfVectorizer\n",
    "#normalizing data\n",
    "from sklearn.preprocessing import StandardScaler\n",
    "#pipeline\n",
    "from sklearn.pipeline import Pipeline, FeatureUnion\n",
    "from sklearn.metrics import precision_score,recall_score\n",
    "#imputer\n",
    "from sklearn.impute import SimpleImputer\n",
    "\n",
    "import sklearn.datasets"
   ]
  },
  {
   "cell_type": "markdown",
   "metadata": {
    "papermill": {
     "duration": 0.056171,
     "end_time": "2021-02-28T16:14:29.454865",
     "exception": false,
     "start_time": "2021-02-28T16:14:29.398694",
     "status": "completed"
    },
    "tags": []
   },
   "source": [
    "## Пути к директориям и файлам"
   ]
  },
  {
   "cell_type": "code",
   "execution_count": 4,
   "metadata": {
    "execution": {
     "iopub.execute_input": "2021-02-28T16:14:29.572892Z",
     "iopub.status.busy": "2021-02-28T16:14:29.572241Z",
     "iopub.status.idle": "2021-02-28T16:14:29.575366Z",
     "shell.execute_reply": "2021-02-28T16:14:29.574806Z"
    },
    "papermill": {
     "duration": 0.0644,
     "end_time": "2021-02-28T16:14:29.575514",
     "exception": false,
     "start_time": "2021-02-28T16:14:29.511114",
     "status": "completed"
    },
    "tags": []
   },
   "outputs": [],
   "source": [
    "# TRAIN_DATASET_PATH = './data/course_project/course_project_train.csv'\n",
    "# TRAIN_DATASET_PATH = './data/course_project_train.csv'\n",
    "TRAIN_DATASET_PATH = './course_project_train.csv'"
   ]
  },
  {
   "cell_type": "markdown",
   "metadata": {
    "papermill": {
     "duration": 0.059412,
     "end_time": "2021-02-28T16:14:29.691109",
     "exception": false,
     "start_time": "2021-02-28T16:14:29.631697",
     "status": "completed"
    },
    "tags": []
   },
   "source": [
    "# Шаг 1. Загрузка данных"
   ]
  },
  {
   "cell_type": "markdown",
   "metadata": {
    "papermill": {
     "duration": 0.074226,
     "end_time": "2021-02-28T16:14:29.832599",
     "exception": false,
     "start_time": "2021-02-28T16:14:29.758373",
     "status": "completed"
    },
    "tags": []
   },
   "source": [
    "**Описание датасета**\n",
    "1. Home Ownership - домовладение\n",
    "2. Annual Income - годовой доход\n",
    "3. Years in current job - количество лет на текущем месте работы\n",
    "4. Tax Liens - налоговые обременения\n",
    "5. Number of Open Accounts - количество открытых счетов\n",
    "6. Years of Credit History - количество лет кредитной истории\n",
    "7. Maximum Open Credit - наибольший открытый кредит\n",
    "8. Number of Credit Problems - количество проблем с кредитом\n",
    "9. Months since last delinquent - количество месяцев с последней просрочки платежа\n",
    "10. Bankruptcies - банкротства\n",
    "11. Purpose - цель кредита\n",
    "12. Term - срок кредита\n",
    "13. Current Loan Amount - текущая сумма кредита\n",
    "14. Current Credit Balance - текущий кредитный баланс\n",
    "15. Monthly Debt - ежемесячный долг\n",
    "16. Credit Score - Кредитный рейтинг\n",
    "17. Credit Default - факт невыполнения кредитных обязательств (0 - погашен вовремя, 1 -просрочка)"
   ]
  },
  {
   "cell_type": "code",
   "execution_count": 5,
   "metadata": {
    "execution": {
     "iopub.execute_input": "2021-02-28T16:14:29.951482Z",
     "iopub.status.busy": "2021-02-28T16:14:29.950783Z",
     "iopub.status.idle": "2021-02-28T16:14:30.136668Z",
     "shell.execute_reply": "2021-02-28T16:14:30.136117Z"
    },
    "papermill": {
     "duration": 0.247578,
     "end_time": "2021-02-28T16:14:30.136824",
     "exception": false,
     "start_time": "2021-02-28T16:14:29.889246",
     "status": "completed"
    },
    "tags": []
   },
   "outputs": [
    {
     "data": {
      "text/html": [
       "<div>\n",
       "<style scoped>\n",
       "    .dataframe tbody tr th:only-of-type {\n",
       "        vertical-align: middle;\n",
       "    }\n",
       "\n",
       "    .dataframe tbody tr th {\n",
       "        vertical-align: top;\n",
       "    }\n",
       "\n",
       "    .dataframe thead th {\n",
       "        text-align: right;\n",
       "    }\n",
       "</style>\n",
       "<table border=\"1\" class=\"dataframe\">\n",
       "  <thead>\n",
       "    <tr style=\"text-align: right;\">\n",
       "      <th></th>\n",
       "      <th>Home Ownership</th>\n",
       "      <th>Annual Income</th>\n",
       "      <th>Years in current job</th>\n",
       "      <th>Tax Liens</th>\n",
       "      <th>Number of Open Accounts</th>\n",
       "      <th>Years of Credit History</th>\n",
       "      <th>Maximum Open Credit</th>\n",
       "      <th>Number of Credit Problems</th>\n",
       "      <th>Months since last delinquent</th>\n",
       "      <th>Bankruptcies</th>\n",
       "      <th>Purpose</th>\n",
       "      <th>Term</th>\n",
       "      <th>Current Loan Amount</th>\n",
       "      <th>Current Credit Balance</th>\n",
       "      <th>Monthly Debt</th>\n",
       "      <th>Credit Score</th>\n",
       "      <th>Credit Default</th>\n",
       "    </tr>\n",
       "  </thead>\n",
       "  <tbody>\n",
       "    <tr>\n",
       "      <th>0</th>\n",
       "      <td>Own Home</td>\n",
       "      <td>482087.0</td>\n",
       "      <td>NaN</td>\n",
       "      <td>0.0</td>\n",
       "      <td>11.0</td>\n",
       "      <td>26.3</td>\n",
       "      <td>685960.0</td>\n",
       "      <td>1.0</td>\n",
       "      <td>NaN</td>\n",
       "      <td>1.0</td>\n",
       "      <td>debt consolidation</td>\n",
       "      <td>Short Term</td>\n",
       "      <td>99999999.0</td>\n",
       "      <td>47386.0</td>\n",
       "      <td>7914.0</td>\n",
       "      <td>749.0</td>\n",
       "      <td>0</td>\n",
       "    </tr>\n",
       "    <tr>\n",
       "      <th>1</th>\n",
       "      <td>Own Home</td>\n",
       "      <td>1025487.0</td>\n",
       "      <td>10+ years</td>\n",
       "      <td>0.0</td>\n",
       "      <td>15.0</td>\n",
       "      <td>15.3</td>\n",
       "      <td>1181730.0</td>\n",
       "      <td>0.0</td>\n",
       "      <td>NaN</td>\n",
       "      <td>0.0</td>\n",
       "      <td>debt consolidation</td>\n",
       "      <td>Long Term</td>\n",
       "      <td>264968.0</td>\n",
       "      <td>394972.0</td>\n",
       "      <td>18373.0</td>\n",
       "      <td>737.0</td>\n",
       "      <td>1</td>\n",
       "    </tr>\n",
       "    <tr>\n",
       "      <th>2</th>\n",
       "      <td>Home Mortgage</td>\n",
       "      <td>751412.0</td>\n",
       "      <td>8 years</td>\n",
       "      <td>0.0</td>\n",
       "      <td>11.0</td>\n",
       "      <td>35.0</td>\n",
       "      <td>1182434.0</td>\n",
       "      <td>0.0</td>\n",
       "      <td>NaN</td>\n",
       "      <td>0.0</td>\n",
       "      <td>debt consolidation</td>\n",
       "      <td>Short Term</td>\n",
       "      <td>99999999.0</td>\n",
       "      <td>308389.0</td>\n",
       "      <td>13651.0</td>\n",
       "      <td>742.0</td>\n",
       "      <td>0</td>\n",
       "    </tr>\n",
       "  </tbody>\n",
       "</table>\n",
       "</div>"
      ],
      "text/plain": [
       "  Home Ownership  Annual Income Years in current job  Tax Liens  \\\n",
       "0       Own Home       482087.0                  NaN        0.0   \n",
       "1       Own Home      1025487.0            10+ years        0.0   \n",
       "2  Home Mortgage       751412.0              8 years        0.0   \n",
       "\n",
       "   Number of Open Accounts  Years of Credit History  Maximum Open Credit  \\\n",
       "0                     11.0                     26.3             685960.0   \n",
       "1                     15.0                     15.3            1181730.0   \n",
       "2                     11.0                     35.0            1182434.0   \n",
       "\n",
       "   Number of Credit Problems  Months since last delinquent  Bankruptcies  \\\n",
       "0                        1.0                           NaN           1.0   \n",
       "1                        0.0                           NaN           0.0   \n",
       "2                        0.0                           NaN           0.0   \n",
       "\n",
       "              Purpose        Term  Current Loan Amount  \\\n",
       "0  debt consolidation  Short Term           99999999.0   \n",
       "1  debt consolidation   Long Term             264968.0   \n",
       "2  debt consolidation  Short Term           99999999.0   \n",
       "\n",
       "   Current Credit Balance  Monthly Debt  Credit Score  Credit Default  \n",
       "0                 47386.0        7914.0         749.0               0  \n",
       "1                394972.0       18373.0         737.0               1  \n",
       "2                308389.0       13651.0         742.0               0  "
      ]
     },
     "execution_count": 5,
     "metadata": {},
     "output_type": "execute_result"
    }
   ],
   "source": [
    "# Тренировочные данные\n",
    "df_train = pd.read_csv(TRAIN_DATASET_PATH)\n",
    "df_train.head(3)"
   ]
  },
  {
   "cell_type": "markdown",
   "metadata": {
    "papermill": {
     "duration": 0.060063,
     "end_time": "2021-02-28T16:14:31.557063",
     "exception": false,
     "start_time": "2021-02-28T16:14:31.497000",
     "status": "completed"
    },
    "tags": []
   },
   "source": [
    "## Приведение типов"
   ]
  },
  {
   "cell_type": "code",
   "execution_count": 6,
   "metadata": {},
   "outputs": [],
   "source": [
    "for colname in ['Tax Liens', 'Number of Credit Problems', 'Bankruptcies']:\n",
    "     df_train[colname] = df_train[colname].astype(str)   "
   ]
  },
  {
   "cell_type": "markdown",
   "metadata": {
    "papermill": {
     "duration": 0.079677,
     "end_time": "2021-02-28T16:14:37.969744",
     "exception": false,
     "start_time": "2021-02-28T16:14:37.890067",
     "status": "completed"
    },
    "tags": []
   },
   "source": [
    "## Корреляция с базовыми признаками"
   ]
  },
  {
   "cell_type": "markdown",
   "metadata": {
    "papermill": {
     "duration": 0.093021,
     "end_time": "2021-02-28T16:14:43.177643",
     "exception": false,
     "start_time": "2021-02-28T16:14:43.084622",
     "status": "completed"
    },
    "tags": []
   },
   "source": [
    "### Класс с подготовкой данных"
   ]
  },
  {
   "cell_type": "code",
   "execution_count": 7,
   "metadata": {
    "execution": {
     "iopub.execute_input": "2021-02-28T16:14:43.566663Z",
     "iopub.status.busy": "2021-02-28T16:14:43.565313Z",
     "iopub.status.idle": "2021-02-28T16:14:43.602430Z",
     "shell.execute_reply": "2021-02-28T16:14:43.603095Z"
    },
    "papermill": {
     "duration": 0.136555,
     "end_time": "2021-02-28T16:14:43.603306",
     "exception": false,
     "start_time": "2021-02-28T16:14:43.466751",
     "status": "completed"
    },
    "tags": []
   },
   "outputs": [],
   "source": [
    "class DataPipeLine:\n",
    "    \"\"\"Подготовка исходных данных\"\"\"\n",
    "    \n",
    "    def __init__(self):\n",
    "        \"\"\"Параметры класса:\n",
    "           Константы для обработки выбрасов\"\"\"\n",
    "        \n",
    "        self.medians = None\n",
    "        self.modes = None\n",
    "       \n",
    "        self.AnnualIncome_min = 165000\n",
    "        self.AnnualIncome_max = 4000000\n",
    "        \n",
    "        self.YearsofCreditHistory_max = 40\n",
    "        \n",
    "        self.MaximumOpenCredit_min = 50000\n",
    "        self.MaximumOpenCredit_max = 4000000\n",
    "       \n",
    "        self.MonthsSinceLastDelinquent_max = 83\n",
    "        self.CurrentLoanAmount_max = 1000000\n",
    "        self.CurrentCreditBalance_max = 1300000\n",
    "        self.MonthlyDebt_max = 55000\n",
    "       \n",
    "        self.MonthlyDebt_min = 585\n",
    "        self.MonthlyDebt_max = 7510\n",
    "        \n",
    "        \n",
    "    def fit(self, df):\n",
    "        \"\"\"Сохранение статистик\"\"\"\n",
    "        \n",
    "        # Расчёт медиан\n",
    "        self.medians = df_train[['Annual Income', 'Credit Score']].median()\n",
    "        df = df_train.loc[df_train['Current Loan Amount'] < self.CurrentLoanAmount_max, ['Current Loan Amount']]\n",
    "        self.modes = df[['Current Loan Amount']].median()\n",
    "    \n",
    "    \n",
    "    def transform(self, df):\n",
    "        \"\"\"Трансформация данных\"\"\"\n",
    "        \n",
    "        # 1. Обработка пропусков\n",
    "        #df_train = df_train.fillna(median)\n",
    "        \n",
    "        df[['Annual Income', 'Credit Score']] = df[['Annual Income', 'Credit Score']].fillna(self.medians)\n",
    "\n",
    "        # Months since last delinquent\n",
    "        # 3581 пропущенное значение из 7500 - удаляем\n",
    "        if 'Months since last delinquent' in df.columns:\n",
    "            # df = df.drop(['Months since last delinquent'], axis=1)\n",
    "            df.drop('Months since last delinquent', axis=1, inplace=True)\n",
    "        \n",
    "        # Years in current job\n",
    "        cat_colname = 'Years in current job'\n",
    "        df[cat_colname] = df[cat_colname].replace(to_replace = np.nan, value = 'неизвестно')\n",
    "\n",
    "        # 2. Выбросы (outliers)\n",
    "        \n",
    "        # Annual Income - годовой доход\n",
    "        df.loc[df['Annual Income'] < self.AnnualIncome_min, 'Annual Income'] = self.AnnualIncome_min\n",
    "        df.loc[df['Annual Income'] >= self.AnnualIncome_max, 'Annual Income'] = self.AnnualIncome_max\n",
    "        \n",
    "        # Years of Credit History - Количество лет кредитной истории\n",
    "        df.loc[df['Years of Credit History'] >= self.YearsofCreditHistory_max, 'Years of Credit History'] = self.YearsofCreditHistory_max\n",
    "        \n",
    "        # Maximum Open Credit - наибольший открытый кредит\n",
    "        df.loc[df['Maximum Open Credit'] < self.MaximumOpenCredit_min, 'Maximum Open Credit'] = self.MaximumOpenCredit_min\n",
    "        df.loc[df['Maximum Open Credit'] >= self.MaximumOpenCredit_max, 'Maximum Open Credit'] = self.MaximumOpenCredit_max\n",
    "      \n",
    "        # Current Loan Amount - текущая сумма кредита\n",
    "        df.loc[df['Current Loan Amount'] >= self.CurrentLoanAmount_max, 'Current Loan Amount'] = self.modes['Current Loan Amount']\n",
    "        \n",
    "        # Current Credit Balance - текущий кредитный баланс\n",
    "        df.loc[df['Current Credit Balance'] >= self.CurrentCreditBalance_max, 'Current Credit Balance'] = self.CurrentCreditBalance_max\n",
    "\n",
    "        # Monthly Debt - Ежемесячный долг\n",
    "        df.loc[df['Monthly Debt'] >= self.MonthlyDebt_max, 'Monthly Debt'] = self.MonthlyDebt_max\n",
    "\n",
    "        # Monthly Debt - Кредитный рейтинг\n",
    "        df.loc[df['Monthly Debt'] < self.MonthlyDebt_min, 'Monthly Debt'] = self.MonthlyDebt_min\n",
    "        df.loc[df['Monthly Debt'] >= self.MonthlyDebt_max, 'Monthly Debt'] = self.MonthlyDebt_max\n",
    "        \n",
    "        # 3. Обработка категорий\n",
    "        colname = 'Bankruptcies'\n",
    "        df[colname] = df[colname].replace(to_replace = 'nan', value = '0.0')\n",
    "    \n",
    "        return df\n",
    "\n",
    "    \n",
    "    def features(self, df):\n",
    "        \"\"\"4. Feature engineering\n",
    "              Генерация новых фич\"\"\"\n",
    "        \n",
    "        # 1. Home Ownership - домовладение\n",
    "        cat_colname = 'Home_Ownership_int'\n",
    "\n",
    "        df[cat_colname] = df['Home Ownership']\n",
    "        df.loc[df[cat_colname] == 'Have Mortgage', cat_colname] = 0\n",
    "        df.loc[df[cat_colname] == 'Own Home', cat_colname] = 1\n",
    "        df.loc[df[cat_colname] == 'Rent', cat_colname] = 2\n",
    "        df.loc[df[cat_colname] == 'Home Mortgage', cat_colname] = 3\n",
    "        \n",
    "        # 3. 'Years in current job' (порядковые данные)\n",
    "        cat_colname = 'Years_in_current_job_int'\n",
    "\n",
    "        df[cat_colname] = df['Years in current job']\n",
    "        df.loc[df[cat_colname] == '< 1 year', cat_colname] = 0\n",
    "        df.loc[df[cat_colname] == '1 year', cat_colname] = 1\n",
    "        df.loc[df[cat_colname] == '2 years', cat_colname] = 2\n",
    "        df.loc[df[cat_colname] == '3 years', cat_colname] = 3\n",
    "        df.loc[df[cat_colname] == '4 years', cat_colname] = 4\n",
    "        df.loc[df[cat_colname] == '5 years', cat_colname] = 5\n",
    "        df.loc[df[cat_colname] == '6 years', cat_colname] = 6\n",
    "        df.loc[df[cat_colname] == '7 years', cat_colname] = 7\n",
    "        df.loc[df[cat_colname] == '8 years', cat_colname] = 8\n",
    "        df.loc[df[cat_colname] == '9 years', cat_colname] = 9\n",
    "        df.loc[df[cat_colname] == '10+ years', cat_colname] = 10\n",
    "        df.loc[df[cat_colname] == 'неизвестно', cat_colname] = 11\n",
    "\n",
    "        # 11. Purpose - цель кредита (порядковые данные)\n",
    "        cat_colname = 'Purpose_int'\n",
    "\n",
    "        df[cat_colname] = df['Purpose']\n",
    "        df.loc[df[cat_colname] == 'renewable energy', cat_colname] = 0\n",
    "        df.loc[df[cat_colname] == 'vacation', cat_colname] = 1\n",
    "        df.loc[df[cat_colname] == 'educational expenses', cat_colname] = 2\n",
    "        df.loc[df[cat_colname] == 'moving', cat_colname] = 3\n",
    "        df.loc[df[cat_colname] == 'wedding', cat_colname] = 4\n",
    "        df.loc[df[cat_colname] == 'small business', cat_colname] = 5\n",
    "        df.loc[df[cat_colname] == 'buy house', cat_colname] = 6\n",
    "        df.loc[df[cat_colname] == 'take a trip', cat_colname] = 7\n",
    "        df.loc[df[cat_colname] == 'major purchase', cat_colname] = 8\n",
    "        df.loc[df[cat_colname] == 'medical bills', cat_colname] = 9\n",
    "        df.loc[df[cat_colname] == 'buy a car', cat_colname] = 10\n",
    "        df.loc[df[cat_colname] == 'business loan', cat_colname] = 11\n",
    "        df.loc[df[cat_colname] == 'home improvements', cat_colname] = 12\n",
    "        df.loc[df[cat_colname] == 'other', cat_colname] = 13\n",
    "        df.loc[df[cat_colname] == 'debt consolidation', cat_colname] = 14\n",
    "\n",
    "        # 12. Term - срок кредита (номинативные данные)\n",
    "        cat_colname = 'Term_int'\n",
    "\n",
    "        df[cat_colname] = df['Term']\n",
    "        df.loc[df[cat_colname] == 'Long Term', cat_colname] = 0\n",
    "        df.loc[df[cat_colname] == 'Short Term', cat_colname] = 1\n",
    "\n",
    "       \n",
    "        numbers = ['0.0', '1.0', '2.0', '3.0', '4.0', '5.0', '6.0', '7.0', '8.0', '9.0']\n",
    "        numbers_int = [0, 1, 2, 3, 4, 5, 6, 7, 8, 9]\n",
    "        \n",
    "        # Добавление признаков\n",
    "        colnames_new = ['Tax_Liens_int', 'Number_of_Credit_Problems_int', 'Bankruptcies_int']\n",
    "        colnames = ['Tax Liens', 'Number of Credit Problems', 'Bankruptcies']\n",
    "        \n",
    "        for i in range(len(colnames_new)):\n",
    "            df[colnames_new[i]] = df[colnames[i]]\n",
    "            for j in range(len(numbers)): \n",
    "                df.loc[df[colnames_new[i]] == numbers[j], colnames_new[i]] = numbers_int[j]\n",
    "       \n",
    "        # Обработка категорий\n",
    "        for colname in ['Home_Ownership_int', 'Years_in_current_job_int', 'Purpose_int', 'Term_int']:\n",
    "             df_train[colname] = df_train[colname].astype('int8')\n",
    "        for colname in colnames_new:\n",
    "             df_train[colname] = df_train[colname].astype('int8')\n",
    "       \n",
    "        # 16. Credit Score - Кредитный рейтинг\n",
    "        df['CreditScore_small'] = df['Credit Score']\n",
    "        df['CreditScore_large'] = df['Credit Score']\n",
    "\n",
    "        df.loc[df['Credit Score'] > 2000, 'CreditScore_small'] = 0.0\n",
    "        df.loc[df['Credit Score'] < 600, 'CreditScore_small'] = 0.0\n",
    "\n",
    "        df.loc[df['Credit Score'] < 3000, 'CreditScore_large'] =  0.0\n",
    "        df.loc[df['Credit Score'] > 9000, 'CreditScore_large'] = 0.0\n",
    "        \n",
    "        return df "
   ]
  },
  {
   "cell_type": "markdown",
   "metadata": {
    "papermill": {
     "duration": 0.092481,
     "end_time": "2021-02-28T16:14:43.789484",
     "exception": false,
     "start_time": "2021-02-28T16:14:43.697003",
     "status": "completed"
    },
    "tags": []
   },
   "source": [
    "## Инициализируем класс"
   ]
  },
  {
   "cell_type": "code",
   "execution_count": 8,
   "metadata": {
    "execution": {
     "iopub.execute_input": "2021-02-28T16:14:43.979652Z",
     "iopub.status.busy": "2021-02-28T16:14:43.978992Z",
     "iopub.status.idle": "2021-02-28T16:14:44.222834Z",
     "shell.execute_reply": "2021-02-28T16:14:44.221833Z"
    },
    "papermill": {
     "duration": 0.341592,
     "end_time": "2021-02-28T16:14:44.223020",
     "exception": false,
     "start_time": "2021-02-28T16:14:43.881428",
     "status": "completed"
    },
    "tags": []
   },
   "outputs": [],
   "source": [
    "data_pl = DataPipeLine()\n",
    "\n",
    "data_pl.fit(df_train)\n",
    "\n",
    "# тренировочные данные\n",
    "df = data_pl.transform(df_train)\n",
    "df = data_pl.features(df_train)"
   ]
  },
  {
   "cell_type": "markdown",
   "metadata": {},
   "source": [
    "## Масштабрование данных"
   ]
  },
  {
   "cell_type": "code",
   "execution_count": 9,
   "metadata": {},
   "outputs": [],
   "source": [
    "NUM_FEATURE_NAMES = [\n",
    "                 'Annual Income',\n",
    "                 'Number of Open Accounts',\n",
    "                 'Years of Credit History',\n",
    "                 'Maximum Open Credit',\n",
    "                 'Current Loan Amount',\n",
    "                 'Current Credit Balance',\n",
    "                 'Monthly Debt',\n",
    "                 #'Credit Score',\n",
    "                 #'Credit Default',\n",
    "                 'CreditScore_small',\n",
    "                 'CreditScore_large']"
   ]
  },
  {
   "cell_type": "code",
   "execution_count": 10,
   "metadata": {},
   "outputs": [
    {
     "data": {
      "text/html": [
       "<div>\n",
       "<style scoped>\n",
       "    .dataframe tbody tr th:only-of-type {\n",
       "        vertical-align: middle;\n",
       "    }\n",
       "\n",
       "    .dataframe tbody tr th {\n",
       "        vertical-align: top;\n",
       "    }\n",
       "\n",
       "    .dataframe thead th {\n",
       "        text-align: right;\n",
       "    }\n",
       "</style>\n",
       "<table border=\"1\" class=\"dataframe\">\n",
       "  <thead>\n",
       "    <tr style=\"text-align: right;\">\n",
       "      <th></th>\n",
       "      <th>Home Ownership</th>\n",
       "      <th>Annual Income</th>\n",
       "      <th>Years in current job</th>\n",
       "      <th>Tax Liens</th>\n",
       "      <th>Number of Open Accounts</th>\n",
       "      <th>Years of Credit History</th>\n",
       "      <th>Maximum Open Credit</th>\n",
       "      <th>Number of Credit Problems</th>\n",
       "      <th>Bankruptcies</th>\n",
       "      <th>Purpose</th>\n",
       "      <th>...</th>\n",
       "      <th>Credit Default</th>\n",
       "      <th>Home_Ownership_int</th>\n",
       "      <th>Years_in_current_job_int</th>\n",
       "      <th>Purpose_int</th>\n",
       "      <th>Term_int</th>\n",
       "      <th>Tax_Liens_int</th>\n",
       "      <th>Number_of_Credit_Problems_int</th>\n",
       "      <th>Bankruptcies_int</th>\n",
       "      <th>CreditScore_small</th>\n",
       "      <th>CreditScore_large</th>\n",
       "    </tr>\n",
       "  </thead>\n",
       "  <tbody>\n",
       "    <tr>\n",
       "      <th>0</th>\n",
       "      <td>Own Home</td>\n",
       "      <td>-1.276531</td>\n",
       "      <td>неизвестно</td>\n",
       "      <td>0.0</td>\n",
       "      <td>-0.026674</td>\n",
       "      <td>1.168421</td>\n",
       "      <td>0.079322</td>\n",
       "      <td>1.0</td>\n",
       "      <td>1.0</td>\n",
       "      <td>debt consolidation</td>\n",
       "      <td>...</td>\n",
       "      <td>0</td>\n",
       "      <td>1</td>\n",
       "      <td>11</td>\n",
       "      <td>14</td>\n",
       "      <td>1</td>\n",
       "      <td>0</td>\n",
       "      <td>1</td>\n",
       "      <td>1</td>\n",
       "      <td>0.393842</td>\n",
       "      <td>-0.237124</td>\n",
       "    </tr>\n",
       "    <tr>\n",
       "      <th>1</th>\n",
       "      <td>Own Home</td>\n",
       "      <td>-0.435285</td>\n",
       "      <td>10+ years</td>\n",
       "      <td>0.0</td>\n",
       "      <td>0.788223</td>\n",
       "      <td>-0.432336</td>\n",
       "      <td>0.922738</td>\n",
       "      <td>0.0</td>\n",
       "      <td>0.0</td>\n",
       "      <td>debt consolidation</td>\n",
       "      <td>...</td>\n",
       "      <td>1</td>\n",
       "      <td>1</td>\n",
       "      <td>10</td>\n",
       "      <td>14</td>\n",
       "      <td>0</td>\n",
       "      <td>0</td>\n",
       "      <td>0</td>\n",
       "      <td>0</td>\n",
       "      <td>0.321908</td>\n",
       "      <td>-0.237124</td>\n",
       "    </tr>\n",
       "    <tr>\n",
       "      <th>2</th>\n",
       "      <td>Home Mortgage</td>\n",
       "      <td>-0.859585</td>\n",
       "      <td>8 years</td>\n",
       "      <td>0.0</td>\n",
       "      <td>-0.026674</td>\n",
       "      <td>2.434474</td>\n",
       "      <td>0.923936</td>\n",
       "      <td>0.0</td>\n",
       "      <td>0.0</td>\n",
       "      <td>debt consolidation</td>\n",
       "      <td>...</td>\n",
       "      <td>0</td>\n",
       "      <td>3</td>\n",
       "      <td>8</td>\n",
       "      <td>14</td>\n",
       "      <td>1</td>\n",
       "      <td>0</td>\n",
       "      <td>0</td>\n",
       "      <td>0</td>\n",
       "      <td>0.351881</td>\n",
       "      <td>-0.237124</td>\n",
       "    </tr>\n",
       "  </tbody>\n",
       "</table>\n",
       "<p>3 rows × 25 columns</p>\n",
       "</div>"
      ],
      "text/plain": [
       "  Home Ownership  Annual Income Years in current job Tax Liens  \\\n",
       "0       Own Home      -1.276531           неизвестно       0.0   \n",
       "1       Own Home      -0.435285            10+ years       0.0   \n",
       "2  Home Mortgage      -0.859585              8 years       0.0   \n",
       "\n",
       "   Number of Open Accounts  Years of Credit History  Maximum Open Credit  \\\n",
       "0                -0.026674                 1.168421             0.079322   \n",
       "1                 0.788223                -0.432336             0.922738   \n",
       "2                -0.026674                 2.434474             0.923936   \n",
       "\n",
       "  Number of Credit Problems Bankruptcies             Purpose  ...  \\\n",
       "0                       1.0          1.0  debt consolidation  ...   \n",
       "1                       0.0          0.0  debt consolidation  ...   \n",
       "2                       0.0          0.0  debt consolidation  ...   \n",
       "\n",
       "  Credit Default  Home_Ownership_int  Years_in_current_job_int  Purpose_int  \\\n",
       "0              0                   1                        11           14   \n",
       "1              1                   1                        10           14   \n",
       "2              0                   3                         8           14   \n",
       "\n",
       "   Term_int  Tax_Liens_int  Number_of_Credit_Problems_int  Bankruptcies_int  \\\n",
       "0         1              0                              1                 1   \n",
       "1         0              0                              0                 0   \n",
       "2         1              0                              0                 0   \n",
       "\n",
       "   CreditScore_small  CreditScore_large  \n",
       "0           0.393842          -0.237124  \n",
       "1           0.321908          -0.237124  \n",
       "2           0.351881          -0.237124  \n",
       "\n",
       "[3 rows x 25 columns]"
      ]
     },
     "execution_count": 10,
     "metadata": {},
     "output_type": "execute_result"
    }
   ],
   "source": [
    "scaler = StandardScaler()\n",
    "\n",
    "df_norm = df.copy()\n",
    "df_norm[NUM_FEATURE_NAMES] = scaler.fit_transform(df_norm[NUM_FEATURE_NAMES])\n",
    "df = df_norm.copy()\n",
    "df.head(3)"
   ]
  },
  {
   "cell_type": "markdown",
   "metadata": {
    "papermill": {
     "duration": 0.094083,
     "end_time": "2021-02-28T16:14:45.297715",
     "exception": false,
     "start_time": "2021-02-28T16:14:45.203632",
     "status": "completed"
    },
    "tags": []
   },
   "source": [
    "# 5. Отбор признаков"
   ]
  },
  {
   "cell_type": "code",
   "execution_count": 11,
   "metadata": {},
   "outputs": [],
   "source": [
    "CAT_FEATURE_NAMES = [\n",
    "                 'Home_Ownership_int',\n",
    "                 'Years_in_current_job_int',\n",
    "                 'Purpose_int',\n",
    "                 'Term_int',\n",
    "                 'Tax_Liens_int',\n",
    "                 'Number_of_Credit_Problems_int']"
   ]
  },
  {
   "cell_type": "code",
   "execution_count": 12,
   "metadata": {},
   "outputs": [],
   "source": [
    "NUM_FEATURE_NAMES = [\n",
    "                 'Annual Income',\n",
    "                 'Number of Open Accounts',\n",
    "                 'Years of Credit History',\n",
    "                 'Maximum Open Credit',\n",
    "                 'Current Loan Amount',\n",
    "                 'Current Credit Balance',\n",
    "                 'Monthly Debt',\n",
    "                 'CreditScore_small',\n",
    "                 'CreditScore_large']\n"
   ]
  },
  {
   "cell_type": "code",
   "execution_count": 13,
   "metadata": {},
   "outputs": [],
   "source": [
    "SELECTED_FEATURE_NAMES = NUM_FEATURE_NAMES + CAT_FEATURE_NAMES"
   ]
  },
  {
   "cell_type": "code",
   "execution_count": 14,
   "metadata": {},
   "outputs": [],
   "source": [
    "TARGET_NAME = 'Credit Default'"
   ]
  },
  {
   "cell_type": "code",
   "execution_count": 15,
   "metadata": {},
   "outputs": [],
   "source": [
    "scaler = StandardScaler()\n",
    "\n",
    "df_norm = df.copy()\n",
    "df_norm[NUM_FEATURE_NAMES] = scaler.fit_transform(df_norm[NUM_FEATURE_NAMES])\n",
    "df = df_norm.copy()"
   ]
  },
  {
   "cell_type": "markdown",
   "metadata": {
    "papermill": {
     "duration": 0.113549,
     "end_time": "2021-02-28T16:14:50.342377",
     "exception": false,
     "start_time": "2021-02-28T16:14:50.228828",
     "status": "completed"
    },
    "tags": []
   },
   "source": [
    "# 4. Рабиение на train/test"
   ]
  },
  {
   "cell_type": "markdown",
   "metadata": {},
   "source": [
    "Разделим данные на train/test и сохраним тестовую выборку на диск (здесь мы ее касаться уже не будем)"
   ]
  },
  {
   "cell_type": "code",
   "execution_count": 16,
   "metadata": {
    "execution": {
     "iopub.execute_input": "2021-02-28T16:14:50.574196Z",
     "iopub.status.busy": "2021-02-28T16:14:50.573461Z",
     "iopub.status.idle": "2021-02-28T16:14:50.596370Z",
     "shell.execute_reply": "2021-02-28T16:14:50.596969Z"
    },
    "papermill": {
     "duration": 0.141065,
     "end_time": "2021-02-28T16:14:50.597150",
     "exception": false,
     "start_time": "2021-02-28T16:14:50.456085",
     "status": "completed"
    },
    "tags": []
   },
   "outputs": [],
   "source": [
    "X = df[SELECTED_FEATURE_NAMES]\n",
    "y = df[TARGET_NAME]\n",
    "\n",
    "X_train, X_test, y_train, y_test = train_test_split(X, y, \n",
    "                                                    shuffle=True,\n",
    "                                                    test_size=0.3,\n",
    "                                                    random_state=21,\n",
    "                                                    stratify=y)"
   ]
  },
  {
   "cell_type": "code",
   "execution_count": 17,
   "metadata": {},
   "outputs": [],
   "source": [
    "#save test\n",
    "X_test.to_csv(\"X_test.csv\", index=None)\n",
    "y_test.to_csv(\"y_test.csv\", index=None)\n",
    "\n",
    "#save train\n",
    "X_train.to_csv(\"X_train.csv\", index=None)\n",
    "y_train.to_csv(\"y_train.csv\", index=None)"
   ]
  },
  {
   "cell_type": "code",
   "execution_count": 18,
   "metadata": {},
   "outputs": [],
   "source": [
    "class ColumnSelector(BaseEstimator, TransformerMixin):\n",
    "    \"\"\"\n",
    "    Transformer to select a single column from the data frame to perform additional transformations on\n",
    "    \"\"\"\n",
    "    def __init__(self, key):\n",
    "        self.key = key\n",
    "\n",
    "    def fit(self, X, y=None):\n",
    "        return self\n",
    "\n",
    "    def transform(self, X):\n",
    "        return X[[self.key]]  # !!!! X[self.key]"
   ]
  },
  {
   "cell_type": "code",
   "execution_count": 19,
   "metadata": {},
   "outputs": [],
   "source": [
    "target = TARGET_NAME"
   ]
  },
  {
   "cell_type": "markdown",
   "metadata": {},
   "source": [
    "Соберем кусок, ответственный за feature engineering"
   ]
  },
  {
   "cell_type": "markdown",
   "metadata": {},
   "source": [
    "['Annual Income',\n",
    " 'Number of Open Accounts',\n",
    " 'Years of Credit History',\n",
    " 'Maximum Open Credit',\n",
    " 'Current Loan Amount',\n",
    " 'Current Credit Balance',\n",
    " 'Monthly Debt',\n",
    " 'CreditScore_small',\n",
    " 'CreditScore_large',\n",
    " \n",
    " 'Home_Ownership_int',\n",
    " \n",
    " 'Years_in_current_job_int',\n",
    " 'Purpose_int',\n",
    " 'Term_int',\n",
    " 'Tax_Liens_int',\n",
    " 'Number_of_Credit_Problems_int']"
   ]
  },
  {
   "cell_type": "code",
   "execution_count": 20,
   "metadata": {},
   "outputs": [],
   "source": [
    "# combine v. 0.0.0.1\n",
    "annual_income = Pipeline([\n",
    "                ('selector', ColumnSelector(key='Annual Income'))\n",
    "                ])\n",
    "\n",
    "number_of_open_accounts = Pipeline([\n",
    "                ('selector', ColumnSelector(key='Number of Open Accounts'))\n",
    "                ])\n",
    "years_of_credit_history = Pipeline([\n",
    "                ('selector', ColumnSelector(key='Years of Credit History'))\n",
    "                ])\n",
    "maximum_open_credit = Pipeline([\n",
    "                ('selector', ColumnSelector(key='Maximum Open Credit'))\n",
    "                ])\n",
    "current_loan_amount = Pipeline([\n",
    "                ('selector', ColumnSelector(key='Current Loan Amount'))\n",
    "                ])\n",
    "current_credit_balance = Pipeline([\n",
    "                ('selector', ColumnSelector(key='Current Credit Balance'))\n",
    "                ])\n",
    "monthly_debt = Pipeline([\n",
    "                ('selector', ColumnSelector(key='Monthly Debt'))\n",
    "                ])\n",
    "creditScore_small = Pipeline([\n",
    "                ('selector', ColumnSelector(key='CreditScore_small'))\n",
    "                ])\n",
    "creditScore_large = Pipeline([\n",
    "                ('selector', ColumnSelector(key='CreditScore_large'))\n",
    "                ])\n",
    "home_ownership_int = Pipeline([\n",
    "                ('selector', ColumnSelector(key='Home_Ownership_int'))\n",
    "                ])\n",
    "years_in_current_job_int = Pipeline([\n",
    "                ('selector', ColumnSelector(key='Years_in_current_job_int'))\n",
    "                ])\n",
    "purpose_int = Pipeline([\n",
    "                ('selector', ColumnSelector(key='Purpose_int'))\n",
    "                ])\n",
    "term_int = Pipeline([\n",
    "                ('selector', ColumnSelector(key='Term_int'))\n",
    "                ])\n",
    "\n",
    "tax_liens_int = Pipeline([\n",
    "                ('selector', ColumnSelector(key='Tax_Liens_int'))\n",
    "                ])\n",
    "\n",
    "number_of_credit_problems_int = Pipeline([\n",
    "                ('selector', ColumnSelector(key='Number_of_Credit_Problems_int'))\n",
    "                ])\n",
    "\n",
    "feats = FeatureUnion([\n",
    "                      ('Annual Income', annual_income),\n",
    "                      ('Number of Open Accounts', number_of_open_accounts),\n",
    "                      ('Years of Credit History', years_of_credit_history),\n",
    "                      ('Maximum Open Credit', maximum_open_credit),                     \n",
    "                      ('Current Loan Amount', current_loan_amount),\n",
    "                      ('Current Credit Balance', current_credit_balance),                      \n",
    "                      ('Monthly Debt', monthly_debt),\n",
    "                      ('CreditScore_small', creditScore_small),\n",
    "                      ('CreditScore_large', creditScore_large),\n",
    "                      \n",
    "                      ('Home_Ownership_int', home_ownership_int),\n",
    "                      ('Years_in_current_job_int', years_in_current_job_int),\n",
    "                      ('Purpose_int', purpose_int),\n",
    "                      ('Term_int', term_int),\n",
    "                      ('Tax_Liens_int', tax_liens_int),\n",
    "                      ('Number_of_Credit_Problems_int', number_of_credit_problems_int)\n",
    "                     ])"
   ]
  },
  {
   "cell_type": "code",
   "execution_count": 21,
   "metadata": {},
   "outputs": [],
   "source": [
    "# # combine v. 0.0.0.0 - рабочая\n",
    "\n",
    "# purpose_int = Pipeline([\n",
    "#                 ('selector', ColumnSelector(key='Purpose_int'))\n",
    "#                 ])\n",
    "# term_int = Pipeline([\n",
    "#                 ('selector', ColumnSelector(key='Term_int'))\n",
    "#                 ])\n",
    "\n",
    "# tax_liens_int = Pipeline([\n",
    "#                 ('selector', ColumnSelector(key='Tax_Liens_int'))\n",
    "#                 ])\n",
    "\n",
    "# number_of_credit_problems_int = Pipeline([\n",
    "#                 ('selector', ColumnSelector(key='Number_of_Credit_Problems_int'))\n",
    "#                 ])\n",
    "\n",
    "# feats = FeatureUnion([\n",
    "#                       ('Purpose_int', purpose_int),\n",
    "#                       ('Term_int', term_int),\n",
    "#                       ('Tax_Liens_int', tax_liens_int),\n",
    "#                       ('Number_of_Credit_Problems_int', number_of_credit_problems_int)\n",
    "#                      ])"
   ]
  },
  {
   "cell_type": "markdown",
   "metadata": {
    "papermill": {
     "duration": 0.11424,
     "end_time": "2021-02-28T16:14:50.827430",
     "exception": false,
     "start_time": "2021-02-28T16:14:50.713190",
     "status": "completed"
    },
    "tags": []
   },
   "source": [
    "# 5. Построение модели¶"
   ]
  },
  {
   "cell_type": "code",
   "execution_count": 22,
   "metadata": {
    "execution": {
     "iopub.execute_input": "2021-02-28T16:14:51.552954Z",
     "iopub.status.busy": "2021-02-28T16:14:51.551637Z",
     "iopub.status.idle": "2021-02-28T16:14:51.560487Z",
     "shell.execute_reply": "2021-02-28T16:14:51.560998Z"
    },
    "papermill": {
     "duration": 0.132075,
     "end_time": "2021-02-28T16:14:51.561169",
     "exception": false,
     "start_time": "2021-02-28T16:14:51.429094",
     "status": "completed"
    },
    "tags": []
   },
   "outputs": [],
   "source": [
    "disbalance = y_train.value_counts()[0] / y_train.value_counts()[1]"
   ]
  },
  {
   "cell_type": "code",
   "execution_count": 23,
   "metadata": {},
   "outputs": [],
   "source": [
    "final_model = LogisticRegression()"
   ]
  },
  {
   "cell_type": "code",
   "execution_count": 24,
   "metadata": {},
   "outputs": [],
   "source": [
    "frozen_params = {\n",
    "     'class_weights':[1, disbalance], \n",
    "     'silent':True,\n",
    "     'random_state':21,\n",
    "     # 'cat_features': CAT_FEATURE_NAMES,\n",
    "     'eval_metric':'F1',\n",
    "     'early_stopping_rounds':50\n",
    "}"
   ]
  },
  {
   "cell_type": "code",
   "execution_count": 25,
   "metadata": {
    "execution": {
     "iopub.execute_input": "2021-02-28T16:14:51.829696Z",
     "iopub.status.busy": "2021-02-28T16:14:51.828698Z",
     "iopub.status.idle": "2021-02-28T16:14:51.837318Z",
     "shell.execute_reply": "2021-02-28T16:14:51.837818Z"
    },
    "papermill": {
     "duration": 0.160864,
     "end_time": "2021-02-28T16:14:51.838010",
     "exception": false,
     "start_time": "2021-02-28T16:14:51.677146",
     "status": "completed"
    },
    "tags": []
   },
   "outputs": [],
   "source": [
    "# final_model = catb.CatBoostClassifier(**frozen_params,\n",
    "#                                       iterations=200,\n",
    "#                                       max_depth=7,\n",
    "#                                       #reg_lambda=0.5\n",
    "#                                      )\n",
    "# # final_model.fit(X_train, y_train, plot=True, eval_set=(X_test, y_test))"
   ]
  },
  {
   "cell_type": "code",
   "execution_count": 26,
   "metadata": {},
   "outputs": [
    {
     "name": "stderr",
     "output_type": "stream",
     "text": [
      "/home/sil/anaconda3/lib/python3.7/site-packages/sklearn/linear_model/_logistic.py:940: ConvergenceWarning: lbfgs failed to converge (status=1):\n",
      "STOP: TOTAL NO. of ITERATIONS REACHED LIMIT.\n",
      "\n",
      "Increase the number of iterations (max_iter) or scale the data as shown in:\n",
      "    https://scikit-learn.org/stable/modules/preprocessing.html\n",
      "Please also refer to the documentation for alternative solver options:\n",
      "    https://scikit-learn.org/stable/modules/linear_model.html#logistic-regression\n",
      "  extra_warning_msg=_LOGISTIC_SOLVER_CONVERGENCE_MSG)\n"
     ]
    },
    {
     "name": "stdout",
     "output_type": "stream",
     "text": [
      "CPU times: user 476 ms, sys: 112 ms, total: 588 ms\n",
      "Wall time: 1.17 s\n"
     ]
    },
    {
     "data": {
      "text/plain": [
       "Pipeline(memory=None,\n",
       "         steps=[('features',\n",
       "                 FeatureUnion(n_jobs=None,\n",
       "                              transformer_list=[('Annual Income',\n",
       "                                                 Pipeline(memory=None,\n",
       "                                                          steps=[('selector',\n",
       "                                                                  ColumnSelector(key='Annual '\n",
       "                                                                                     'Income'))],\n",
       "                                                          verbose=False)),\n",
       "                                                ('Number of Open Accounts',\n",
       "                                                 Pipeline(memory=None,\n",
       "                                                          steps=[('selector',\n",
       "                                                                  ColumnSelector(key='Number '\n",
       "                                                                                     'of '\n",
       "                                                                                     'Open '\n",
       "                                                                                     'Accounts'))],\n",
       "                                                          verbose=False)),\n",
       "                                                ('Years of Credit History',\n",
       "                                                 P...\n",
       "                                                                  ColumnSelector(key='Number_of_Credit_Problems_int'))],\n",
       "                                                          verbose=False))],\n",
       "                              transformer_weights=None, verbose=False)),\n",
       "                ('classifier',\n",
       "                 LogisticRegression(C=1.0, class_weight=None, dual=False,\n",
       "                                    fit_intercept=True, intercept_scaling=1,\n",
       "                                    l1_ratio=None, max_iter=100,\n",
       "                                    multi_class='auto', n_jobs=None,\n",
       "                                    penalty='l2', random_state=None,\n",
       "                                    solver='lbfgs', tol=0.0001, verbose=0,\n",
       "                                    warm_start=False))],\n",
       "         verbose=False)"
      ]
     },
     "execution_count": 26,
     "metadata": {},
     "output_type": "execute_result"
    }
   ],
   "source": [
    "%%time\n",
    "\n",
    "pipeline = Pipeline([\n",
    "    ('features',feats),\n",
    "    ('classifier',  final_model),\n",
    "])\n",
    "\n",
    "pipeline.fit(X_train, y_train)"
   ]
  },
  {
   "cell_type": "markdown",
   "metadata": {},
   "source": [
    "Посмотрим, как выглядит наш pipeline"
   ]
  },
  {
   "cell_type": "code",
   "execution_count": 27,
   "metadata": {},
   "outputs": [
    {
     "data": {
      "text/plain": [
       "[('features',\n",
       "  FeatureUnion(n_jobs=None,\n",
       "               transformer_list=[('Annual Income',\n",
       "                                  Pipeline(memory=None,\n",
       "                                           steps=[('selector',\n",
       "                                                   ColumnSelector(key='Annual '\n",
       "                                                                      'Income'))],\n",
       "                                           verbose=False)),\n",
       "                                 ('Number of Open Accounts',\n",
       "                                  Pipeline(memory=None,\n",
       "                                           steps=[('selector',\n",
       "                                                   ColumnSelector(key='Number of '\n",
       "                                                                      'Open '\n",
       "                                                                      'Accounts'))],\n",
       "                                           verbose=False)),\n",
       "                                 ('Years of Credit History',\n",
       "                                  Pipeline(memory=None,\n",
       "                                           steps=[('selector',\n",
       "                                                   Col...\n",
       "                                           steps=[('selector',\n",
       "                                                   ColumnSelector(key='Term_int'))],\n",
       "                                           verbose=False)),\n",
       "                                 ('Tax_Liens_int',\n",
       "                                  Pipeline(memory=None,\n",
       "                                           steps=[('selector',\n",
       "                                                   ColumnSelector(key='Tax_Liens_int'))],\n",
       "                                           verbose=False)),\n",
       "                                 ('Number_of_Credit_Problems_int',\n",
       "                                  Pipeline(memory=None,\n",
       "                                           steps=[('selector',\n",
       "                                                   ColumnSelector(key='Number_of_Credit_Problems_int'))],\n",
       "                                           verbose=False))],\n",
       "               transformer_weights=None, verbose=False)),\n",
       " ('classifier',\n",
       "  LogisticRegression(C=1.0, class_weight=None, dual=False, fit_intercept=True,\n",
       "                     intercept_scaling=1, l1_ratio=None, max_iter=100,\n",
       "                     multi_class='auto', n_jobs=None, penalty='l2',\n",
       "                     random_state=None, solver='lbfgs', tol=0.0001, verbose=0,\n",
       "                     warm_start=False))]"
      ]
     },
     "execution_count": 27,
     "metadata": {},
     "output_type": "execute_result"
    }
   ],
   "source": [
    "pipeline.steps"
   ]
  },
  {
   "cell_type": "markdown",
   "metadata": {},
   "source": [
    "Сохраним модель (пайплайн)"
   ]
  },
  {
   "cell_type": "code",
   "execution_count": 28,
   "metadata": {},
   "outputs": [],
   "source": [
    "with open(\"logreg_pipeline_v8.dill\", \"wb\") as f:\n",
    "    dill.dump(pipeline, f)"
   ]
  },
  {
   "cell_type": "code",
   "execution_count": 29,
   "metadata": {},
   "outputs": [],
   "source": [
    "# with open(\"catboost_pipeline.dill\", \"wb\") as f:\n",
    "#     dill.dump(pipeline, f)"
   ]
  }
 ],
 "metadata": {
  "kernelspec": {
   "display_name": "Python 3",
   "language": "python",
   "name": "python3"
  },
  "language_info": {
   "codemirror_mode": {
    "name": "ipython",
    "version": 3
   },
   "file_extension": ".py",
   "mimetype": "text/x-python",
   "name": "python",
   "nbconvert_exporter": "python",
   "pygments_lexer": "ipython3",
   "version": "3.7.6"
  },
  "papermill": {
   "default_parameters": {},
   "duration": 37.022004,
   "end_time": "2021-02-28T16:14:57.865557",
   "environment_variables": {},
   "exception": null,
   "input_path": "__notebook__.ipynb",
   "output_path": "__notebook__.ipynb",
   "parameters": {},
   "start_time": "2021-02-28T16:14:20.843553",
   "version": "2.2.2"
  },
  "widgets": {
   "application/vnd.jupyter.widget-state+json": {
    "state": {
     "37ba8702dfc64301a581b4e0b2b31103": {
      "model_module": "@jupyter-widgets/base",
      "model_module_version": "1.2.0",
      "model_name": "LayoutModel",
      "state": {
       "_model_module": "@jupyter-widgets/base",
       "_model_module_version": "1.2.0",
       "_model_name": "LayoutModel",
       "_view_count": null,
       "_view_module": "@jupyter-widgets/base",
       "_view_module_version": "1.2.0",
       "_view_name": "LayoutView",
       "align_content": null,
       "align_items": null,
       "align_self": "stretch",
       "border": null,
       "bottom": null,
       "display": null,
       "flex": null,
       "flex_flow": null,
       "grid_area": null,
       "grid_auto_columns": null,
       "grid_auto_flow": null,
       "grid_auto_rows": null,
       "grid_column": null,
       "grid_gap": null,
       "grid_row": null,
       "grid_template_areas": null,
       "grid_template_columns": null,
       "grid_template_rows": null,
       "height": "500px",
       "justify_content": null,
       "justify_items": null,
       "left": null,
       "margin": null,
       "max_height": null,
       "max_width": null,
       "min_height": null,
       "min_width": null,
       "object_fit": null,
       "object_position": null,
       "order": null,
       "overflow": null,
       "overflow_x": null,
       "overflow_y": null,
       "padding": null,
       "right": null,
       "top": null,
       "visibility": null,
       "width": null
      }
     },
     "dd4d5994518e4f109f5edcf093bfd815": {
      "model_module": "@jupyter-widgets/base",
      "model_module_version": "1.2.0",
      "model_name": "DOMWidgetModel",
      "state": {
       "_dom_classes": [],
       "_model_module": "@jupyter-widgets/base",
       "_model_module_version": "1.2.0",
       "_model_name": "DOMWidgetModel",
       "_view_count": null,
       "_view_module": "catboost_module",
       "_view_module_version": "",
       "_view_name": "CatboostIpythonWidgetView",
       "data": {
        "catboost_info": {
         "content": {
          "data": {
           "iterations": [
            {
             "iteration": 0,
             "learn": [
              0.5850210937,
              0.6651599836
             ],
             "passed_time": 0.07171088968,
             "remaining_time": 14.27046705,
             "test": [
              0.5800891802,
              0.6667799828
             ]
            },
            {
             "iteration": 1,
             "learn": [
              0.5936377632,
              0.6436414385
             ],
             "passed_time": 0.08046693164,
             "remaining_time": 7.966226232,
             "test": [
              0.5785342678,
              0.6467129261
             ]
            },
            {
             "iteration": 2,
             "learn": [
              0.5890929836,
              0.6283821647
             ],
             "passed_time": 0.09708627116,
             "remaining_time": 6.375331806,
             "test": [
              0.5723533011,
              0.6332885611
             ]
            },
            {
             "iteration": 3,
             "learn": [
              0.5893758895,
              0.6161065173
             ],
             "passed_time": 0.1113627308,
             "remaining_time": 5.456773808,
             "test": [
              0.5719195715,
              0.6221159579
             ]
            },
            {
             "iteration": 4,
             "learn": [
              0.6044538194,
              0.6010199547
             ],
             "passed_time": 0.1268421425,
             "remaining_time": 4.946843556,
             "test": [
              0.5793318389,
              0.6084215607
             ]
            },
            {
             "iteration": 5,
             "learn": [
              0.6212201754,
              0.5927594374
             ],
             "passed_time": 0.1451017256,
             "remaining_time": 4.691622462,
             "test": [
              0.5905913026,
              0.6019771686
             ]
            },
            {
             "iteration": 6,
             "learn": [
              0.6285357653,
              0.5847996446
             ],
             "passed_time": 0.160385768,
             "remaining_time": 4.422064745,
             "test": [
              0.6032155222,
              0.5958483659
             ]
            },
            {
             "iteration": 7,
             "learn": [
              0.632478927,
              0.5824150592
             ],
             "passed_time": 0.170522311,
             "remaining_time": 4.092535464,
             "test": [
              0.6082256597,
              0.5937428088
             ]
            },
            {
             "iteration": 8,
             "learn": [
              0.6326588475,
              0.579029382
             ],
             "passed_time": 0.1852675411,
             "remaining_time": 3.931788928,
             "test": [
              0.6019469385,
              0.5917670456
             ]
            },
            {
             "iteration": 9,
             "learn": [
              0.6327617791,
              0.5760196738
             ],
             "passed_time": 0.1949095177,
             "remaining_time": 3.703280836,
             "test": [
              0.6012788028,
              0.5890612609
             ]
            },
            {
             "iteration": 10,
             "learn": [
              0.6402289397,
              0.572542174
             ],
             "passed_time": 0.2090542908,
             "remaining_time": 3.591932814,
             "test": [
              0.6070255565,
              0.5876783129
             ]
            },
            {
             "iteration": 11,
             "learn": [
              0.6471099905,
              0.5702946925
             ],
             "passed_time": 0.2252734353,
             "remaining_time": 3.529283819,
             "test": [
              0.6110539533,
              0.5866466236
             ]
            },
            {
             "iteration": 12,
             "learn": [
              0.6433339759,
              0.5698490024
             ],
             "passed_time": 0.2289445854,
             "remaining_time": 3.293279806,
             "test": [
              0.6077138009,
              0.5863835602
             ]
            },
            {
             "iteration": 13,
             "learn": [
              0.6493933835,
              0.5590819358
             ],
             "passed_time": 0.2356645746,
             "remaining_time": 3.130972205,
             "test": [
              0.6115376125,
              0.576023554
             ]
            },
            {
             "iteration": 14,
             "learn": [
              0.6500235165,
              0.5564057774
             ],
             "passed_time": 0.2492926458,
             "remaining_time": 3.074609299,
             "test": [
              0.6066531335,
              0.5748185477
             ]
            },
            {
             "iteration": 15,
             "learn": [
              0.6498956249,
              0.5532862106
             ],
             "passed_time": 0.2630576099,
             "remaining_time": 3.025162514,
             "test": [
              0.6143502302,
              0.5727518888
             ]
            },
            {
             "iteration": 16,
             "learn": [
              0.6539415976,
              0.5527217108
             ],
             "passed_time": 0.2685925124,
             "remaining_time": 2.891319398,
             "test": [
              0.6172659422,
              0.5723162432
             ]
            },
            {
             "iteration": 17,
             "learn": [
              0.6627012638,
              0.5494969626
             ],
             "passed_time": 0.2862955279,
             "remaining_time": 2.894765894,
             "test": [
              0.6217769234,
              0.5705981669
             ]
            },
            {
             "iteration": 18,
             "learn": [
              0.6706201007,
              0.5480191355
             ],
             "passed_time": 0.2981361933,
             "remaining_time": 2.840139526,
             "test": [
              0.6211145314,
              0.5699184665
             ]
            },
            {
             "iteration": 19,
             "learn": [
              0.6732365292,
              0.5465643209
             ],
             "passed_time": 0.3123916956,
             "remaining_time": 2.81152526,
             "test": [
              0.6206737203,
              0.5698386038
             ]
            },
            {
             "iteration": 20,
             "learn": [
              0.675343585,
              0.5449467027
             ],
             "passed_time": 0.3257243721,
             "remaining_time": 2.776412505,
             "test": [
              0.6243231519,
              0.5695801043
             ]
            },
            {
             "iteration": 21,
             "learn": [
              0.6769393797,
              0.5427831504
             ],
             "passed_time": 0.3379401538,
             "remaining_time": 2.734243063,
             "test": [
              0.6180419373,
              0.5692802983
             ]
            },
            {
             "iteration": 22,
             "learn": [
              0.6801903606,
              0.5413191518
             ],
             "passed_time": 0.3508824193,
             "remaining_time": 2.700269053,
             "test": [
              0.6192975416,
              0.5690712456
             ]
            },
            {
             "iteration": 23,
             "learn": [
              0.6845200316,
              0.5390177176
             ],
             "passed_time": 0.3650591358,
             "remaining_time": 2.677100329,
             "test": [
              0.6154323787,
              0.567820727
             ]
            },
            {
             "iteration": 24,
             "learn": [
              0.6852206488,
              0.5373068846
             ],
             "passed_time": 0.3776092658,
             "remaining_time": 2.643264861,
             "test": [
              0.6195045771,
              0.5675722387
             ]
            },
            {
             "iteration": 25,
             "learn": [
              0.6894164021,
              0.5357078278
             ],
             "passed_time": 0.3915032117,
             "remaining_time": 2.620059955,
             "test": [
              0.620237044,
              0.5675496273
             ]
            },
            {
             "iteration": 26,
             "learn": [
              0.6896397412,
              0.5334335498
             ],
             "passed_time": 0.4048515806,
             "remaining_time": 2.594049017,
             "test": [
              0.6266506701,
              0.5666442107
             ]
            },
            {
             "iteration": 27,
             "learn": [
              0.6915388472,
              0.5320102105
             ],
             "passed_time": 0.4150673235,
             "remaining_time": 2.549699273,
             "test": [
              0.6314057005,
              0.5657192971
             ]
            },
            {
             "iteration": 28,
             "learn": [
              0.6925830475,
              0.5315207894
             ],
             "passed_time": 0.4276604117,
             "remaining_time": 2.521721738,
             "test": [
              0.629326321,
              0.5656711246
             ]
            },
            {
             "iteration": 29,
             "learn": [
              0.6963940233,
              0.5301226004
             ],
             "passed_time": 0.443040573,
             "remaining_time": 2.510563247,
             "test": [
              0.6332680317,
              0.5657973
             ]
            },
            {
             "iteration": 30,
             "learn": [
              0.6975241855,
              0.5297328674
             ],
             "passed_time": 0.4569862516,
             "remaining_time": 2.491312146,
             "test": [
              0.6308528866,
              0.5657721028
             ]
            },
            {
             "iteration": 31,
             "learn": [
              0.6984005729,
              0.5294207653
             ],
             "passed_time": 0.4728554976,
             "remaining_time": 2.482491362,
             "test": [
              0.6312904094,
              0.5657117338
             ]
            },
            {
             "iteration": 32,
             "learn": [
              0.6966711365,
              0.5289752452
             ],
             "passed_time": 0.4813949588,
             "remaining_time": 2.436150246,
             "test": [
              0.6278998791,
              0.5655617234
             ]
            },
            {
             "iteration": 33,
             "learn": [
              0.6976242117,
              0.528441644
             ],
             "passed_time": 0.4932976094,
             "remaining_time": 2.408453034,
             "test": [
              0.6271229789,
              0.5655273904
             ]
            },
            {
             "iteration": 34,
             "learn": [
              0.7002479026,
              0.5274888484
             ],
             "passed_time": 0.5069468048,
             "remaining_time": 2.38989208,
             "test": [
              0.6276827779,
              0.5653166407
             ]
            },
            {
             "iteration": 35,
             "learn": [
              0.7006483728,
              0.5259746397
             ],
             "passed_time": 0.521353552,
             "remaining_time": 2.37505507,
             "test": [
              0.6262551836,
              0.5656827792
             ]
            },
            {
             "iteration": 36,
             "learn": [
              0.7095585378,
              0.5237694048
             ],
             "passed_time": 0.5337755156,
             "remaining_time": 2.351497542,
             "test": [
              0.6223178099,
              0.5656715805
             ]
            },
            {
             "iteration": 37,
             "learn": [
              0.7110129837,
              0.5230641107
             ],
             "passed_time": 0.5466583355,
             "remaining_time": 2.330490799,
             "test": [
              0.6273744162,
              0.5657585393
             ]
            },
            {
             "iteration": 38,
             "learn": [
              0.7134753488,
              0.5222398651
             ],
             "passed_time": 0.5605706767,
             "remaining_time": 2.314150742,
             "test": [
              0.6250892249,
              0.5656921486
             ]
            },
            {
             "iteration": 39,
             "learn": [
              0.7142643715,
              0.5216301187
             ],
             "passed_time": 0.5766756947,
             "remaining_time": 2.306702779,
             "test": [
              0.6215987609,
              0.5655498516
             ]
            },
            {
             "iteration": 40,
             "learn": [
              0.714121588,
              0.5209968724
             ],
             "passed_time": 0.5898248628,
             "remaining_time": 2.28736959,
             "test": [
              0.6208154302,
              0.5652690053
             ]
            },
            {
             "iteration": 41,
             "learn": [
              0.716903835,
              0.5199020422
             ],
             "passed_time": 0.6023323505,
             "remaining_time": 2.265916938,
             "test": [
              0.614937794,
              0.5652377646
             ]
            },
            {
             "iteration": 42,
             "learn": [
              0.7138370567,
              0.5192688764
             ],
             "passed_time": 0.615000035,
             "remaining_time": 2.245465244,
             "test": [
              0.6163738595,
              0.5652900079
             ]
            },
            {
             "iteration": 43,
             "learn": [
              0.7169294386,
              0.5184169846
             ],
             "passed_time": 0.6281284799,
             "remaining_time": 2.227000974,
             "test": [
              0.6183856072,
              0.5651991828
             ]
            },
            {
             "iteration": 44,
             "learn": [
              0.720236221,
              0.5171177817
             ],
             "passed_time": 0.6398468614,
             "remaining_time": 2.203916967,
             "test": [
              0.6181080579,
              0.5656754604
             ]
            },
            {
             "iteration": 45,
             "learn": [
              0.7219183611,
              0.5163413704
             ],
             "passed_time": 0.6517311567,
             "remaining_time": 2.181882568,
             "test": [
              0.6157341027,
              0.5656122474
             ]
            },
            {
             "iteration": 46,
             "learn": [
              0.722838527,
              0.5159830469
             ],
             "passed_time": 0.6631768006,
             "remaining_time": 2.158852138,
             "test": [
              0.6159472074,
              0.5655350115
             ]
            },
            {
             "iteration": 47,
             "learn": [
              0.7214615423,
              0.5146991285
             ],
             "passed_time": 0.6767828478,
             "remaining_time": 2.143145685,
             "test": [
              0.6150956726,
              0.5647855051
             ]
            },
            {
             "iteration": 48,
             "learn": [
              0.7260487001,
              0.512576477
             ],
             "passed_time": 0.6913328685,
             "remaining_time": 2.130433942,
             "test": [
              0.6188131931,
              0.5650281551
             ]
            },
            {
             "iteration": 49,
             "learn": [
              0.7240638297,
              0.5112471874
             ],
             "passed_time": 0.7056052136,
             "remaining_time": 2.116815641,
             "test": [
              0.6170149471,
              0.5645437989
             ]
            },
            {
             "iteration": 50,
             "learn": [
              0.7257955939,
              0.5108515128
             ],
             "passed_time": 0.7162135595,
             "remaining_time": 2.092467066,
             "test": [
              0.6187472597,
              0.5645779286
             ]
            },
            {
             "iteration": 51,
             "learn": [
              0.7258978879,
              0.5107846189
             ],
             "passed_time": 0.7203857595,
             "remaining_time": 2.0503287,
             "test": [
              0.6175322055,
              0.5645586004
             ]
            },
            {
             "iteration": 52,
             "learn": [
              0.7255955545,
              0.5101779604
             ],
             "passed_time": 0.736116891,
             "remaining_time": 2.041682698,
             "test": [
              0.6163150117,
              0.5646965019
             ]
            },
            {
             "iteration": 53,
             "learn": [
              0.7254440322,
              0.5100852298
             ],
             "passed_time": 0.7442072968,
             "remaining_time": 2.012116025,
             "test": [
              0.6163150117,
              0.5646389453
             ]
            },
            {
             "iteration": 54,
             "learn": [
              0.7271828158,
              0.5090092096
             ],
             "passed_time": 0.7559531709,
             "remaining_time": 1.99296745,
             "test": [
              0.6181720357,
              0.5646011618
             ]
            },
            {
             "iteration": 55,
             "learn": [
              0.7298708747,
              0.507774961
             ],
             "passed_time": 0.7696400595,
             "remaining_time": 1.979074439,
             "test": [
              0.6173192229,
              0.5638860365
             ]
            },
            {
             "iteration": 56,
             "learn": [
              0.7314278775,
              0.5066987301
             ],
             "passed_time": 0.7839494984,
             "remaining_time": 1.966750496,
             "test": [
              0.6196103367,
              0.5638306286
             ]
            },
            {
             "iteration": 57,
             "learn": [
              0.732583979,
              0.5062630979
             ],
             "passed_time": 0.79746157,
             "remaining_time": 1.952405913,
             "test": [
              0.6206017098,
              0.5637872549
             ]
            },
            {
             "iteration": 58,
             "learn": [
              0.7328924403,
              0.5061463156
             ],
             "passed_time": 0.803920924,
             "remaining_time": 1.921234751,
             "test": [
              0.6167738704,
              0.5638677736
             ]
            },
            {
             "iteration": 59,
             "learn": [
              0.732789591,
              0.5056562769
             ],
             "passed_time": 0.816635109,
             "remaining_time": 1.905481921,
             "test": [
              0.6193983337,
              0.5637880241
             ]
            },
            {
             "iteration": 60,
             "learn": [
              0.7335314129,
              0.5053948566
             ],
             "passed_time": 0.8273558608,
             "remaining_time": 1.885286306,
             "test": [
              0.6164099589,
              0.5638711344
             ]
            },
            {
             "iteration": 61,
             "learn": [
              0.7334286852,
              0.5053005719
             ],
             "passed_time": 0.8397042849,
             "remaining_time": 1.869019215,
             "test": [
              0.6164099589,
              0.5638661346
             ]
            },
            {
             "iteration": 62,
             "learn": [
              0.7353219672,
              0.5047333618
             ],
             "passed_time": 0.8533880961,
             "remaining_time": 1.855780463,
             "test": [
              0.6178323282,
              0.5636260667
             ]
            },
            {
             "iteration": 63,
             "learn": [
              0.7364970163,
              0.5034343993
             ],
             "passed_time": 0.8648480622,
             "remaining_time": 1.837802132,
             "test": [
              0.6186165517,
              0.5635783162
             ]
            },
            {
             "iteration": 64,
             "learn": [
              0.735941352,
              0.5025845675
             ],
             "passed_time": 0.8758688214,
             "remaining_time": 1.819112168,
             "test": [
              0.6196103367,
              0.5634761834
             ]
            },
            {
             "iteration": 65,
             "learn": [
              0.7370524389,
              0.5023833883
             ],
             "passed_time": 0.8911081184,
             "remaining_time": 1.809219513,
             "test": [
              0.6168336083,
              0.5634691413
             ]
            },
            {
             "iteration": 66,
             "learn": [
              0.738030005,
              0.5020951828
             ],
             "passed_time": 0.8988208042,
             "remaining_time": 1.784226372,
             "test": [
              0.6176203461,
              0.5635778683
             ]
            },
            {
             "iteration": 67,
             "learn": [
              0.7364323886,
              0.5004950029
             ],
             "passed_time": 0.9102480182,
             "remaining_time": 1.766952035,
             "test": [
              0.6178323282,
              0.5636436575
             ]
            },
            {
             "iteration": 68,
             "learn": [
              0.7372593545,
              0.5001127592
             ],
             "passed_time": 0.9232034141,
             "remaining_time": 1.752748511,
             "test": [
              0.6176203461,
              0.563636314
             ]
            },
            {
             "iteration": 69,
             "learn": [
              0.7396865484,
              0.4987378614
             ],
             "passed_time": 0.9380056382,
             "remaining_time": 1.742010471,
             "test": [
              0.6210263143,
              0.563873893
             ]
            },
            {
             "iteration": 70,
             "learn": [
              0.7401371788,
              0.4978787266
             ],
             "passed_time": 0.9576805774,
             "remaining_time": 1.74001119,
             "test": [
              0.6176203461,
              0.5642203407
             ]
            },
            {
             "iteration": 71,
             "learn": [
              0.7443652881,
              0.4963976075
             ],
             "passed_time": 0.9703256697,
             "remaining_time": 1.725023413,
             "test": [
              0.6213115995,
              0.5644321628
             ]
            },
            {
             "iteration": 72,
             "learn": [
              0.7448144787,
              0.4956018062
             ],
             "passed_time": 0.9831265428,
             "remaining_time": 1.710370835,
             "test": [
              0.6168936984,
              0.564100219
             ]
            },
            {
             "iteration": 73,
             "learn": [
              0.7462052909,
              0.4950363855
             ],
             "passed_time": 0.9958778371,
             "remaining_time": 1.695683885,
             "test": [
              0.616681156,
              0.5641760245
             ]
            },
            {
             "iteration": 74,
             "learn": [
              0.7491301241,
              0.4936792299
             ],
             "passed_time": 1.012368575,
             "remaining_time": 1.687280959,
             "test": [
              0.6208854085,
              0.5637604799
             ]
            },
            {
             "iteration": 75,
             "learn": [
              0.7497080288,
              0.4924428414
             ],
             "passed_time": 1.031966218,
             "remaining_time": 1.683734356,
             "test": [
              0.6202472173,
              0.563823917
             ]
            },
            {
             "iteration": 76,
             "learn": [
              0.750048921,
              0.4918286569
             ],
             "passed_time": 1.044707432,
             "remaining_time": 1.668818365,
             "test": [
              0.6180444558,
              0.5633464515
             ]
            },
            {
             "iteration": 77,
             "learn": [
              0.7504428586,
              0.4910051388
             ],
             "passed_time": 1.058294383,
             "remaining_time": 1.655280959,
             "test": [
              0.6186817137,
              0.563515481
             ]
            },
            {
             "iteration": 78,
             "learn": [
              0.7504170402,
              0.4901936857
             ],
             "passed_time": 1.071591029,
             "remaining_time": 1.641297652,
             "test": [
              0.6210984309,
              0.5636312622
             ]
            },
            {
             "iteration": 79,
             "learn": [
              0.7506017623,
              0.4890624075
             ],
             "passed_time": 1.08821905,
             "remaining_time": 1.632328574,
             "test": [
              0.6183209784,
              0.5636107207
             ]
            }
           ],
           "meta": {
            "iteration_count": 200,
            "launch_mode": "Train",
            "learn_metrics": [
             {
              "best_value": "Max",
              "name": "F1"
             },
             {
              "best_value": "Min",
              "name": "Logloss"
             }
            ],
            "learn_sets": [
             "learn"
            ],
            "name": "experiment",
            "parameters": "",
            "test_metrics": [
             {
              "best_value": "Max",
              "name": "F1"
             },
             {
              "best_value": "Min",
              "name": "Logloss"
             }
            ],
            "test_sets": [
             "test"
            ]
           }
          },
          "passed_iterations": 79,
          "total_iterations": 200
         },
         "name": "catboost_info",
         "path": "catboost_info"
        }
       },
       "layout": "IPY_MODEL_37ba8702dfc64301a581b4e0b2b31103"
      }
     }
    },
    "version_major": 2,
    "version_minor": 0
   }
  }
 },
 "nbformat": 4,
 "nbformat_minor": 4
}
